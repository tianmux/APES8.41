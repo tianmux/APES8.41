{
 "cells": [
  {
   "cell_type": "code",
   "execution_count": 1,
   "metadata": {},
   "outputs": [],
   "source": [
    "import numpy as np\n",
    "pi = np.pi\n",
    "clight = 299792458"
   ]
  },
  {
   "cell_type": "code",
   "execution_count": 4,
   "metadata": {},
   "outputs": [
    {
     "name": "stdout",
     "output_type": "stream",
     "text": [
      "Vs0 :  274285.71428571426\n",
      "Vq0 :  1670488.7467628224\n",
      "V0 :   1692857.142857143\n",
      "PhiPhasor0 :  80.6755275774264\n",
      "New Phasor angle1 :  87.31406235913148\n",
      "New Phasor angle2 :  -87.31406235913148\n",
      "VFs :  274285.71428571455\n",
      "VFq :  5846710.613669878\n",
      "VF :   5853140.836598862\n",
      "VDs :  274285.71428571455\n",
      "VDq :  -5846710.613669878\n",
      "VD :   5853140.836598862\n"
     ]
    }
   ],
   "source": [
    "NC = 14\n",
    "NF = 9\n",
    "ND = NC-NF\n",
    "\n",
    "Vs = 3.84e6/NC\n",
    "Vq = np.sqrt((23.7e6/NC)**2-Vs**2)\n",
    "V0 = np.sqrt(Vs**2+Vq**2)\n",
    "PhiPhasor0 = np.arctan(Vq/Vs)\n",
    "print(\"Vs0 : \",Vs)\n",
    "print(\"Vq0 : \",Vq)\n",
    "print(\"V0 :  \",V0)\n",
    "print(\"PhiPhasor0 : \",PhiPhasor0/pi*180)\n",
    "case = 2\n",
    "if case == 1:\n",
    "    VF = 3.4e6\n",
    "    VD = 0.51e6\n",
    "    VF = VF*NF\n",
    "    VD = VD*ND\n",
    "    V0 = V0*NC\n",
    "    PhiPhasor1 = 83.9/180*pi #PhiPhasor0+np.arccos((VF**2+V0**2-VD**2)/(2*VF*V0))\n",
    "    PhiPhasor2 = -83.9/180*pi #np.arccos((Vs*NC-VF*np.cos(PhiPhasor1))/VD)\n",
    "    print(\"VFs : \",VF*np.cos(PhiPhasor1))\n",
    "    print(\"VFq : \",VF*np.sin(PhiPhasor1))\n",
    "    print(\"VF :  \",VF)\n",
    "    print(\"VDs : \",VD*np.cos(PhiPhasor2))\n",
    "    print(\"VDq : \",VD*np.sin(PhiPhasor2))\n",
    "    print(\"VD :  \",VD)\n",
    "    print(\"New Phasor angle1 : \",PhiPhasor1/pi*180)\n",
    "    print(\"New Phasor angle2 : \",PhiPhasor2/pi*180)\n",
    "if case == 2:\n",
    "    Vsnew = Vs\n",
    "    Vqnew = Vq*NC/(NF-ND)\n",
    "    V0new = np.sqrt(Vsnew**2+Vqnew**2)\n",
    "    PhiPhasor1 = np.arctan(Vqnew/Vsnew)\n",
    "    PhiPhasor2 = -np.arctan(Vqnew/Vsnew)\n",
    "    \n",
    "    print(\"New Phasor angle1 : \",PhiPhasor1/pi*180)\n",
    "    print(\"New Phasor angle2 : \",PhiPhasor2/pi*180)\n",
    "    print(\"VFs : \",V0new*np.cos(PhiPhasor1))\n",
    "    print(\"VFq : \",V0new*np.sin(PhiPhasor1))\n",
    "    print(\"VF :  \",V0new)\n",
    "    print(\"VDs : \",V0new*np.cos(PhiPhasor2))\n",
    "    print(\"VDq : \",V0new*np.sin(PhiPhasor2))\n",
    "    print(\"VD :  \",V0new)\n",
    "    "
   ]
  },
  {
   "cell_type": "code",
   "execution_count": 73,
   "metadata": {},
   "outputs": [],
   "source": [
    "phi=85/180*pi\n",
    "Vss = (3.4e6+.1e6)*np.cos(phi)\n",
    "Vsq = (3.4e6+.1e6)*np.sin(phi)"
   ]
  },
  {
   "cell_type": "code",
   "execution_count": 74,
   "metadata": {},
   "outputs": [
    {
     "data": {
      "text/plain": [
       "0.30504509961680426"
      ]
     },
     "execution_count": 74,
     "metadata": {},
     "output_type": "execute_result"
    }
   ],
   "source": [
    "Vss/1e6"
   ]
  },
  {
   "cell_type": "code",
   "execution_count": 75,
   "metadata": {},
   "outputs": [
    {
     "data": {
      "text/plain": [
       "48.813540206495524"
      ]
     },
     "execution_count": 75,
     "metadata": {},
     "output_type": "execute_result"
    }
   ],
   "source": [
    "Vsq/1e6*14"
   ]
  },
  {
   "cell_type": "code",
   "execution_count": 76,
   "metadata": {},
   "outputs": [
    {
     "data": {
      "text/plain": [
       "1.018565400843882"
      ]
     },
     "execution_count": 76,
     "metadata": {},
     "output_type": "execute_result"
    }
   ],
   "source": [
    "(VF**2+V0**2-VD**2)/(2*VF*V0)"
   ]
  },
  {
   "cell_type": "code",
   "execution_count": 90,
   "metadata": {},
   "outputs": [
    {
     "data": {
      "text/plain": [
       "0.024558851419736513"
      ]
     },
     "execution_count": 90,
     "metadata": {},
     "output_type": "execute_result"
    }
   ],
   "source": [
    "gamma = 19600\n",
    "Ek = 0.51e6*gamma\n",
    "np.sqrt(7560*(2.25-1.6)*6*1e6*np.sin(81.23/180*pi)*1.3e-3/(2*pi*Ek))"
   ]
  },
  {
   "cell_type": "code",
   "execution_count": 86,
   "metadata": {},
   "outputs": [
    {
     "data": {
      "text/plain": [
       "0.001040582726326743"
      ]
     },
     "execution_count": 86,
     "metadata": {},
     "output_type": "execute_result"
    }
   ],
   "source": [
    "1/31**2"
   ]
  },
  {
   "cell_type": "code",
   "execution_count": 107,
   "metadata": {},
   "outputs": [
    {
     "data": {
      "text/plain": [
       "87.486392527387906"
      ]
     },
     "execution_count": 107,
     "metadata": {},
     "output_type": "execute_result"
    }
   ],
   "source": [
    "np.arccos(0.257/5.86)/pi*180"
   ]
  },
  {
   "cell_type": "code",
   "execution_count": 97,
   "metadata": {},
   "outputs": [
    {
     "data": {
      "text/plain": [
       "46538.662414669729"
      ]
     },
     "execution_count": 97,
     "metadata": {},
     "output_type": "execute_result"
    }
   ],
   "source": [
    "np.tan(81/180*pi)/(2*4e4)*7560*78e3"
   ]
  },
  {
   "cell_type": "code",
   "execution_count": null,
   "metadata": {},
   "outputs": [],
   "source": []
  }
 ],
 "metadata": {
  "kernelspec": {
   "display_name": "Python 3",
   "language": "python",
   "name": "python3"
  },
  "language_info": {
   "codemirror_mode": {
    "name": "ipython",
    "version": 3
   },
   "file_extension": ".py",
   "mimetype": "text/x-python",
   "name": "python",
   "nbconvert_exporter": "python",
   "pygments_lexer": "ipython3",
   "version": "3.7.4"
  }
 },
 "nbformat": 4,
 "nbformat_minor": 2
}
