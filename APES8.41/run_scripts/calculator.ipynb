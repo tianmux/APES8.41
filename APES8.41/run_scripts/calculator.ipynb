{
 "cells": [
  {
   "cell_type": "code",
   "execution_count": 1,
   "metadata": {},
   "outputs": [],
   "source": [
    "import matplotlib.pyplot as plt\n",
    "import matplotlib.ticker as ticker\n",
    "import numpy as np\n",
    "import struct\n",
    "import sys\n",
    "from array import array\n",
    "import itertools\n",
    "import os\n",
    "import sys\n",
    "from scipy import signal\n",
    "from scipy.optimize import curve_fit\n",
    "pi = np.pi\n",
    "clight = 299792458"
   ]
  },
  {
   "cell_type": "code",
   "execution_count": 7,
   "metadata": {},
   "outputs": [],
   "source": [
    "IbDC = 2.5\n",
    "QL = 4e4\n",
    "RoQ = 73\n",
    "Rsh = RoQ*QL\n",
    "phis = 81.23/180*pi\n",
    "Vtot = 2.26e6\n",
    "f0 = 78e3\n",
    "h = 7560\n",
    "frf = f0*h"
   ]
  },
  {
   "cell_type": "code",
   "execution_count": 12,
   "metadata": {},
   "outputs": [],
   "source": [
    "tgphi = 2*IbDC*Rsh*np.sin(phis)/Vtot"
   ]
  },
  {
   "cell_type": "code",
   "execution_count": 13,
   "metadata": {},
   "outputs": [
    {
     "name": "stdout",
     "output_type": "stream",
     "text": [
      "47061.2319867\n"
     ]
    }
   ],
   "source": [
    "df = tgphi/(2*QL)*frf\n",
    "print(df)"
   ]
  },
  {
   "cell_type": "code",
   "execution_count": 15,
   "metadata": {},
   "outputs": [
    {
     "data": {
      "text/plain": [
       "13148.943536630211"
      ]
     },
     "execution_count": 15,
     "metadata": {},
     "output_type": "execute_result"
    }
   ],
   "source": [
    "(0.51e6)**2/(2*73*135486.6909537)"
   ]
  },
  {
   "cell_type": "code",
   "execution_count": 54,
   "metadata": {},
   "outputs": [],
   "source": [
    "Vs = np.zeros(2)\n",
    "Vq = np.zeros(2)\n",
    "Vnew = 3.4e6 # per cavity\n",
    "PhisPhasor = 83.9/180*pi\n",
    "VnewD = 0.51e6\n",
    "PhisPhasorD = -83.9/180*pi\n",
    "Vs[0] = Vnew*np.cos(PhisPhasor)\n",
    "Vq[0] = Vnew*np.sin(PhisPhasor)\n",
    "Vs[1] = VnewD*np.cos(PhisPhasorD)\n",
    "Vq[1] = VnewD*np.sin(PhisPhasorD)\n",
    "Vreftot = np.sqrt(Vs**2+Vq**2) \n",
    "thetaL = np.array([-77.43,82.28])/180.0*pi #np.array([-77.43,82.28])/180.0*pi  # angle between Ig and Vc\n",
    "IbDC = 2.5\n",
    "QL = np.array([8.7659e4,1.3148e4])\n",
    "Rsh = np.array([73,73])*QL\n",
    "Vbr = 2*IbDC*Rsh\n",
    "PhisPhasor = np.arctan(Vq/Vs)\n",
    "tgPhi = -(Vbr*np.sin(PhisPhasor)/Vreftot+(1+Vbr*np.cos(PhisPhasor)/Vreftot)*np.tan(thetaL))"
   ]
  },
  {
   "cell_type": "code",
   "execution_count": 55,
   "metadata": {},
   "outputs": [
    {
     "data": {
      "text/plain": [
       "array([-0.38765734, -5.39643759])"
      ]
     },
     "execution_count": 55,
     "metadata": {},
     "output_type": "execute_result"
    }
   ],
   "source": [
    "tgPhi"
   ]
  },
  {
   "cell_type": "code",
   "execution_count": 53,
   "metadata": {},
   "outputs": [
    {
     "data": {
      "text/plain": [
       "array([ 9.35716897, -9.35656408])"
      ]
     },
     "execution_count": 53,
     "metadata": {},
     "output_type": "execute_result"
    }
   ],
   "source": [
    "Vbr*np.sin(PhisPhasor)/Vreftot"
   ]
  },
  {
   "cell_type": "code",
   "execution_count": 49,
   "metadata": {},
   "outputs": [
    {
     "data": {
      "text/plain": [
       "array([-18.7144045 ,  14.75300167])"
      ]
     },
     "execution_count": 49,
     "metadata": {},
     "output_type": "execute_result"
    }
   ],
   "source": [
    "(1+Vbr*np.cos(PhisPhasor)/Vreftot)*np.tan(thetaL)"
   ]
  },
  {
   "cell_type": "code",
   "execution_count": 50,
   "metadata": {},
   "outputs": [
    {
     "data": {
      "text/plain": [
       "array([-9.35723553,  7.3767655 ])"
      ]
     },
     "execution_count": 50,
     "metadata": {},
     "output_type": "execute_result"
    }
   ],
   "source": [
    "np.tan(thetaL)"
   ]
  },
  {
   "cell_type": "code",
   "execution_count": null,
   "metadata": {},
   "outputs": [],
   "source": []
  }
 ],
 "metadata": {
  "kernelspec": {
   "display_name": "Python 3",
   "language": "python",
   "name": "python3"
  },
  "language_info": {
   "codemirror_mode": {
    "name": "ipython",
    "version": 3
   },
   "file_extension": ".py",
   "mimetype": "text/x-python",
   "name": "python",
   "nbconvert_exporter": "python",
   "pygments_lexer": "ipython3",
   "version": "3.6.5"
  }
 },
 "nbformat": 4,
 "nbformat_minor": 2
}
